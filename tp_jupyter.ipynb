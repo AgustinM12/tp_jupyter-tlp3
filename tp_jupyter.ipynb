{
 "cells": [
  {
   "cell_type": "markdown",
   "metadata": {},
   "source": [
    "# 1er Parcial TLP3 Python para ciencia de datos\n",
    "## Alumno: Agustin Mazza \n",
    "\n",
    "### *Crear un entorno virtual para la instalacion de las dependecia necesarias:\n",
    "- numpy\n",
    "- pandas\n",
    "- matplotlib.pyplot\n",
    "\n",
    "### Ejecutar el siguiente comando para la instalacion de las dependencias:\n",
    "```\n",
    "pip install -r requirements.txt\n",
    "```"
   ]
  },
  {
   "cell_type": "markdown",
   "metadata": {},
   "source": [
    "## 1) Ejercicio de algoritmia:"
   ]
  },
  {
   "cell_type": "markdown",
   "metadata": {},
   "source": [
    "Introducir un palabra en el llamado a la función que esta dentro del print, no puede ser solo un numero o empezar con caracteres especiales."
   ]
  },
  {
   "cell_type": "code",
   "execution_count": 9,
   "metadata": {},
   "outputs": [
    {
     "name": "stdout",
     "output_type": "stream",
     "text": [
      "Hola\n"
     ]
    }
   ],
   "source": [
    "def capitalizar_palabra(palabra):\n",
    "    # * Comprobar que se este pasando un string\n",
    "    if type(palabra) != str: \n",
    "        return \"Se debe ingresar un string\"\n",
    "    \n",
    "    # * Tomar la primera letra y volverla mayuscula\n",
    "    letra_upper = palabra[0].upper()\n",
    "\n",
    "    # * Concatenar el resto de las letras excepto la primera\n",
    "    letra_upper += palabra[1:]\n",
    "\n",
    "    # * Retornar la palabra capitalizada\n",
    "    return letra_upper\n",
    "    \n",
    "\n",
    "print(capitalizar_palabra(\"hola\"))"
   ]
  },
  {
   "cell_type": "markdown",
   "metadata": {},
   "source": [
    "## 2. Ejercicio de pandas.\n",
    "*Importacion de las librerias necesarias:"
   ]
  },
  {
   "cell_type": "code",
   "execution_count": 11,
   "metadata": {},
   "outputs": [],
   "source": [
    "import pandas as pd\n",
    "import random as rd"
   ]
  },
  {
   "cell_type": "markdown",
   "metadata": {},
   "source": [
    "Lista de productos a utilizar\n"
   ]
  },
  {
   "cell_type": "code",
   "execution_count": 13,
   "metadata": {},
   "outputs": [],
   "source": [
    "productos = [\n",
    "{\"nombre\": \"Camiseta\", \"precio\": 20, \"cantidad_disponible\":100},\n",
    "{\"nombre\": \"Pantalón\", \"precio\": 30, \"cantidad_disponible\": 80},\n",
    "{\"nombre\": \"Zapatos\", \"precio\": 50, \"cantidad_disponible\": 50},\n",
    "{\"nombre\": \"Reloj\", \"precio\": 100, \"cantidad_disponible\": 30},\n",
    "{\"nombre\": \"Gorra\", \"precio\": 15, \"cantidad_disponible\": 120},\n",
    "{\"nombre\": \"Bufanda\", \"precio\": 25, \"cantidad_disponible\": 60},\n",
    "{\"nombre\": \"Sudadera\", \"precio\": 40, \"cantidad_disponible\": 70},\n",
    "{\"nombre\": \"Bolsa\", \"precio\": 35, \"cantidad_disponible\": 90},\n",
    "{\"nombre\": \"Chaqueta\", \"precio\": 80, \"cantidad_disponible\": 40},\n",
    "{\"nombre\": \"Gafas de sol\", \"precio\": 45, \"cantidad_disponible\":25},\n",
    "{\"nombre\": \"Calcetines\", \"precio\": 10, \"cantidad_disponible\":150},\n",
    "{\"nombre\": \"Sombrero\", \"precio\": 20, \"cantidad_disponible\": 55},\n",
    "{\"nombre\": \"Pulsera\", \"precio\": 5, \"cantidad_disponible\": 200},\n",
    "{\"nombre\": \"Pendientes\", \"precio\": 15, \"cantidad_disponible\":180},\n",
    "{\"nombre\": \"Cinturón\", \"precio\": 20, \"cantidad_disponible\":100},\n",
    "{\"nombre\": \"Vestido\", \"precio\": 60, \"cantidad_disponible\": 35},\n",
    "{\"nombre\": \"Corbata\", \"precio\": 25, \"cantidad_disponible\": 75},\n",
    "{\"nombre\": \"Bolso\", \"precio\": 70, \"cantidad_disponible\": 45},\n",
    "{\"nombre\": \"Paraguas\", \"precio\": 30, \"cantidad_disponible\": 65},\n",
    "{\"nombre\": \"Collar\", \"precio\": 40, \"cantidad_disponible\": 85},\n",
    "]"
   ]
  },
  {
   "cell_type": "markdown",
   "metadata": {},
   "source": [
    "- Creacion del Data Frame mediante la libreria pandas:"
   ]
  },
  {
   "cell_type": "code",
   "execution_count": 14,
   "metadata": {},
   "outputs": [
    {
     "name": "stdout",
     "output_type": "stream",
     "text": [
      "          nombre  precio  cantidad_disponible\n",
      "0       Camiseta      20                  100\n",
      "1       Pantalón      30                   80\n",
      "2        Zapatos      50                   50\n",
      "3          Reloj     100                   30\n",
      "4          Gorra      15                  120\n",
      "5        Bufanda      25                   60\n",
      "6       Sudadera      40                   70\n",
      "7          Bolsa      35                   90\n",
      "8       Chaqueta      80                   40\n",
      "9   Gafas de sol      45                   25\n",
      "10    Calcetines      10                  150\n",
      "11      Sombrero      20                   55\n",
      "12       Pulsera       5                  200\n",
      "13    Pendientes      15                  180\n",
      "14      Cinturón      20                  100\n",
      "15       Vestido      60                   35\n",
      "16       Corbata      25                   75\n",
      "17         Bolso      70                   45\n",
      "18      Paraguas      30                   65\n",
      "19        Collar      40                   85\n"
     ]
    }
   ],
   "source": [
    "df = pd.DataFrame(productos, columns=[\"nombre\", \"precio\", \"cantidad_disponible\"])\n",
    "\n",
    "print(df)"
   ]
  },
  {
   "cell_type": "markdown",
   "metadata": {},
   "source": [
    "* 1. Se calcula el valor total del inventario de cada producto y se muestra"
   ]
  },
  {
   "cell_type": "code",
   "execution_count": 15,
   "metadata": {},
   "outputs": [
    {
     "name": "stdout",
     "output_type": "stream",
     "text": [
      "0     2000\n",
      "1     2400\n",
      "2     2500\n",
      "3     3000\n",
      "4     1800\n",
      "5     1500\n",
      "6     2800\n",
      "7     3150\n",
      "8     3200\n",
      "9     1125\n",
      "10    1500\n",
      "11    1100\n",
      "12    1000\n",
      "13    2700\n",
      "14    2000\n",
      "15    2100\n",
      "16    1875\n",
      "17    3150\n",
      "18    1950\n",
      "19    3400\n",
      "Name: valor_total, dtype: int64\n"
     ]
    }
   ],
   "source": [
    "df[\"valor_total\"] = df[\"precio\"] * df[\"cantidad_disponible\"]\n",
    "\n",
    "print(df[\"valor_total\"])"
   ]
  },
  {
   "cell_type": "markdown",
   "metadata": {},
   "source": [
    "- 2. Se calcula el valor acumulado del inventario y se muestra el total, es decir la ultima posición del acumulado. "
   ]
  },
  {
   "cell_type": "code",
   "execution_count": 16,
   "metadata": {},
   "outputs": [
    {
     "name": "stdout",
     "output_type": "stream",
     "text": [
      "19    44250\n",
      "Name: valor_total, dtype: int64\n"
     ]
    }
   ],
   "source": [
    "print(df[\"valor_total\"].cumsum()[-1:])"
   ]
  },
  {
   "cell_type": "markdown",
   "metadata": {},
   "source": [
    "funcion para calcular ventas mediante un numero random entre 0 y el numero minimo de la columna \"cantidad_disponible\""
   ]
  },
  {
   "cell_type": "code",
   "execution_count": 18,
   "metadata": {},
   "outputs": [],
   "source": [
    "def ventas_random(cantidad_disponible):\n",
    "    ventas = cantidad_disponible - rd.randint(0,df[\"cantidad_disponible\"].min())\n",
    "    return ventas"
   ]
  },
  {
   "cell_type": "markdown",
   "metadata": {},
   "source": [
    "- 3. Simular algunas ventas y actualizar la cantidad disponible de productos vendidos."
   ]
  },
  {
   "cell_type": "code",
   "execution_count": 19,
   "metadata": {},
   "outputs": [],
   "source": [
    "df[\"cantidad_disponible\"] = df[\"cantidad_disponible\"].apply(ventas_random)"
   ]
  },
  {
   "cell_type": "markdown",
   "metadata": {},
   "source": [
    "* 4 Mostrar la cantidad restante disponible de cada producto después de las ventas simuladas."
   ]
  },
  {
   "cell_type": "code",
   "execution_count": 20,
   "metadata": {},
   "outputs": [
    {
     "name": "stdout",
     "output_type": "stream",
     "text": [
      "          nombre  cantidad_disponible\n",
      "0       Camiseta                   87\n",
      "1       Pantalón                   60\n",
      "2        Zapatos                   41\n",
      "3          Reloj                   26\n",
      "4          Gorra                  104\n",
      "5        Bufanda                   57\n",
      "6       Sudadera                   64\n",
      "7          Bolsa                   86\n",
      "8       Chaqueta                   28\n",
      "9   Gafas de sol                    8\n",
      "10    Calcetines                  127\n",
      "11      Sombrero                   38\n",
      "12       Pulsera                  198\n",
      "13    Pendientes                  159\n",
      "14      Cinturón                   87\n",
      "15       Vestido                   21\n",
      "16       Corbata                   50\n",
      "17         Bolso                   26\n",
      "18      Paraguas                   56\n",
      "19        Collar                   83\n"
     ]
    }
   ],
   "source": [
    "print(df[[\"nombre\",\"cantidad_disponible\"]])"
   ]
  },
  {
   "cell_type": "markdown",
   "metadata": {},
   "source": [
    "* 5 Crea un DataFrame que incluya dos columnas una para los nombres de los productos y otra para la cantidad disponible de cada producto."
   ]
  },
  {
   "cell_type": "code",
   "execution_count": 21,
   "metadata": {},
   "outputs": [
    {
     "name": "stdout",
     "output_type": "stream",
     "text": [
      "          nombre  cantidad_disponible\n",
      "0       Camiseta                   87\n",
      "1       Pantalón                   60\n",
      "2        Zapatos                   41\n",
      "3          Reloj                   26\n",
      "4          Gorra                  104\n",
      "5        Bufanda                   57\n",
      "6       Sudadera                   64\n",
      "7          Bolsa                   86\n",
      "8       Chaqueta                   28\n",
      "9   Gafas de sol                    8\n",
      "10    Calcetines                  127\n",
      "11      Sombrero                   38\n",
      "12       Pulsera                  198\n",
      "13    Pendientes                  159\n",
      "14      Cinturón                   87\n",
      "15       Vestido                   21\n",
      "16       Corbata                   50\n",
      "17         Bolso                   26\n",
      "18      Paraguas                   56\n",
      "19        Collar                   83\n"
     ]
    }
   ],
   "source": [
    "new_df = df[[\"nombre\", \"cantidad_disponible\"]]\n",
    "\n",
    "print(new_df)"
   ]
  },
  {
   "cell_type": "markdown",
   "metadata": {},
   "source": [
    "## 3. Ejercicio Matplotlib:\n",
    "\n",
    "importacion de la libreria"
   ]
  },
  {
   "cell_type": "code",
   "execution_count": 17,
   "metadata": {},
   "outputs": [],
   "source": [
    "import matplotlib.pyplot as plt"
   ]
  },
  {
   "cell_type": "markdown",
   "metadata": {},
   "source": [
    "- Definicion del grafico y estilos del mismo:"
   ]
  },
  {
   "cell_type": "code",
   "execution_count": 22,
   "metadata": {},
   "outputs": [
    {
     "data": {
      "image/png": "[encoded data removed]",
      "text/plain": [
       "<Figure size 640x480 with 1 Axes>"
      ]
     },
     "metadata": {},
     "output_type": "display_data"
    }
   ],
   "source": [
    "plt.bar(new_df[\"nombre\"], new_df[\"cantidad_disponible\"], color=\"darkseagreen\", edgecolor=\"black\", )\n",
    "\n",
    "# * titulo del grafico. \n",
    "plt.title(\"Productos y su disponibilidad\")\n",
    "\n",
    "# * label del eje x.\n",
    "plt.xlabel(\"Nombre de los productos\")\n",
    "\n",
    "# * label del eje Y.\n",
    "plt.ylabel(\"Cantidad disponible\")\n",
    "\n",
    "# * Mostrar el grafico.\n",
    "plt.show()"
   ]
  }
 ],
 "metadata": {
  "kernelspec": {
   "display_name": "Python 3",
   "language": "python",
   "name": "python3"
  },
  "language_info": {
   "codemirror_mode": {
    "name": "ipython",
    "version": 3
   },
   "file_extension": ".py",
   "mimetype": "text/x-python",
   "name": "python",
   "nbconvert_exporter": "python",
   "pygments_lexer": "ipython3",
   "version": "3.12.2"
  }
 },
 "nbformat": 4,
 "nbformat_minor": 2
}
